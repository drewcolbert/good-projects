{
  "nbformat": 4,
  "nbformat_minor": 0,
  "metadata": {
    "colab": {
      "name": "IST718_Lab9_NN.ipynb",
      "provenance": [],
      "collapsed_sections": []
    },
    "kernelspec": {
      "name": "python3",
      "display_name": "Python 3"
    }
  },
  "cells": [
    {
      "cell_type": "markdown",
      "metadata": {
        "id": "mxCL5y4ThLvN",
        "colab_type": "text"
      },
      "source": [
        "Tutorial:\n",
        "\n",
        "https://www.tensorflow.org/tutorials/keras/classification\n",
        "\n",
        "Look into:\n",
        "\n",
        "https://www.tensorflow.org/tutorials/keras/overfit_and_underfit#strategies_to_prevent_overfitting"
      ]
    },
    {
      "cell_type": "code",
      "metadata": {
        "id": "VpOYkmQ9O9Yp",
        "colab_type": "code",
        "colab": {
          "base_uri": "https://localhost:8080/",
          "height": 666
        },
        "outputId": "6c5c0558-c40f-4703-a7aa-8cb140c94c37"
      },
      "source": [
        "!pip install tensorflow\n",
        "import tensorflow as tf\n",
        "from tensorflow import keras\n",
        "import numpy as np\n",
        "import matplotlib.pyplot as plt"
      ],
      "execution_count": 1,
      "outputs": [
        {
          "output_type": "stream",
          "text": [
            "Requirement already satisfied: tensorflow in /usr/local/lib/python3.6/dist-packages (2.3.0)\n",
            "Requirement already satisfied: protobuf>=3.9.2 in /usr/local/lib/python3.6/dist-packages (from tensorflow) (3.12.4)\n",
            "Requirement already satisfied: scipy==1.4.1 in /usr/local/lib/python3.6/dist-packages (from tensorflow) (1.4.1)\n",
            "Requirement already satisfied: gast==0.3.3 in /usr/local/lib/python3.6/dist-packages (from tensorflow) (0.3.3)\n",
            "Requirement already satisfied: grpcio>=1.8.6 in /usr/local/lib/python3.6/dist-packages (from tensorflow) (1.31.0)\n",
            "Requirement already satisfied: keras-preprocessing<1.2,>=1.1.1 in /usr/local/lib/python3.6/dist-packages (from tensorflow) (1.1.2)\n",
            "Requirement already satisfied: astunparse==1.6.3 in /usr/local/lib/python3.6/dist-packages (from tensorflow) (1.6.3)\n",
            "Requirement already satisfied: wheel>=0.26 in /usr/local/lib/python3.6/dist-packages (from tensorflow) (0.35.1)\n",
            "Requirement already satisfied: tensorflow-estimator<2.4.0,>=2.3.0 in /usr/local/lib/python3.6/dist-packages (from tensorflow) (2.3.0)\n",
            "Requirement already satisfied: tensorboard<3,>=2.3.0 in /usr/local/lib/python3.6/dist-packages (from tensorflow) (2.3.0)\n",
            "Requirement already satisfied: termcolor>=1.1.0 in /usr/local/lib/python3.6/dist-packages (from tensorflow) (1.1.0)\n",
            "Requirement already satisfied: opt-einsum>=2.3.2 in /usr/local/lib/python3.6/dist-packages (from tensorflow) (3.3.0)\n",
            "Requirement already satisfied: wrapt>=1.11.1 in /usr/local/lib/python3.6/dist-packages (from tensorflow) (1.12.1)\n",
            "Requirement already satisfied: six>=1.12.0 in /usr/local/lib/python3.6/dist-packages (from tensorflow) (1.15.0)\n",
            "Requirement already satisfied: absl-py>=0.7.0 in /usr/local/lib/python3.6/dist-packages (from tensorflow) (0.8.1)\n",
            "Requirement already satisfied: google-pasta>=0.1.8 in /usr/local/lib/python3.6/dist-packages (from tensorflow) (0.2.0)\n",
            "Requirement already satisfied: numpy<1.19.0,>=1.16.0 in /usr/local/lib/python3.6/dist-packages (from tensorflow) (1.18.5)\n",
            "Requirement already satisfied: h5py<2.11.0,>=2.10.0 in /usr/local/lib/python3.6/dist-packages (from tensorflow) (2.10.0)\n",
            "Requirement already satisfied: setuptools in /usr/local/lib/python3.6/dist-packages (from protobuf>=3.9.2->tensorflow) (49.6.0)\n",
            "Requirement already satisfied: werkzeug>=0.11.15 in /usr/local/lib/python3.6/dist-packages (from tensorboard<3,>=2.3.0->tensorflow) (1.0.1)\n",
            "Requirement already satisfied: google-auth<2,>=1.6.3 in /usr/local/lib/python3.6/dist-packages (from tensorboard<3,>=2.3.0->tensorflow) (1.17.2)\n",
            "Requirement already satisfied: markdown>=2.6.8 in /usr/local/lib/python3.6/dist-packages (from tensorboard<3,>=2.3.0->tensorflow) (3.2.2)\n",
            "Requirement already satisfied: tensorboard-plugin-wit>=1.6.0 in /usr/local/lib/python3.6/dist-packages (from tensorboard<3,>=2.3.0->tensorflow) (1.7.0)\n",
            "Requirement already satisfied: requests<3,>=2.21.0 in /usr/local/lib/python3.6/dist-packages (from tensorboard<3,>=2.3.0->tensorflow) (2.23.0)\n",
            "Requirement already satisfied: google-auth-oauthlib<0.5,>=0.4.1 in /usr/local/lib/python3.6/dist-packages (from tensorboard<3,>=2.3.0->tensorflow) (0.4.1)\n",
            "Requirement already satisfied: cachetools<5.0,>=2.0.0 in /usr/local/lib/python3.6/dist-packages (from google-auth<2,>=1.6.3->tensorboard<3,>=2.3.0->tensorflow) (4.1.1)\n",
            "Requirement already satisfied: pyasn1-modules>=0.2.1 in /usr/local/lib/python3.6/dist-packages (from google-auth<2,>=1.6.3->tensorboard<3,>=2.3.0->tensorflow) (0.2.8)\n",
            "Requirement already satisfied: rsa<5,>=3.1.4; python_version >= \"3\" in /usr/local/lib/python3.6/dist-packages (from google-auth<2,>=1.6.3->tensorboard<3,>=2.3.0->tensorflow) (4.6)\n",
            "Requirement already satisfied: importlib-metadata; python_version < \"3.8\" in /usr/local/lib/python3.6/dist-packages (from markdown>=2.6.8->tensorboard<3,>=2.3.0->tensorflow) (1.7.0)\n",
            "Requirement already satisfied: urllib3!=1.25.0,!=1.25.1,<1.26,>=1.21.1 in /usr/local/lib/python3.6/dist-packages (from requests<3,>=2.21.0->tensorboard<3,>=2.3.0->tensorflow) (1.24.3)\n",
            "Requirement already satisfied: chardet<4,>=3.0.2 in /usr/local/lib/python3.6/dist-packages (from requests<3,>=2.21.0->tensorboard<3,>=2.3.0->tensorflow) (3.0.4)\n",
            "Requirement already satisfied: idna<3,>=2.5 in /usr/local/lib/python3.6/dist-packages (from requests<3,>=2.21.0->tensorboard<3,>=2.3.0->tensorflow) (2.10)\n",
            "Requirement already satisfied: certifi>=2017.4.17 in /usr/local/lib/python3.6/dist-packages (from requests<3,>=2.21.0->tensorboard<3,>=2.3.0->tensorflow) (2020.6.20)\n",
            "Requirement already satisfied: requests-oauthlib>=0.7.0 in /usr/local/lib/python3.6/dist-packages (from google-auth-oauthlib<0.5,>=0.4.1->tensorboard<3,>=2.3.0->tensorflow) (1.3.0)\n",
            "Requirement already satisfied: pyasn1<0.5.0,>=0.4.6 in /usr/local/lib/python3.6/dist-packages (from pyasn1-modules>=0.2.1->google-auth<2,>=1.6.3->tensorboard<3,>=2.3.0->tensorflow) (0.4.8)\n",
            "Requirement already satisfied: zipp>=0.5 in /usr/local/lib/python3.6/dist-packages (from importlib-metadata; python_version < \"3.8\"->markdown>=2.6.8->tensorboard<3,>=2.3.0->tensorflow) (3.1.0)\n",
            "Requirement already satisfied: oauthlib>=3.0.0 in /usr/local/lib/python3.6/dist-packages (from requests-oauthlib>=0.7.0->google-auth-oauthlib<0.5,>=0.4.1->tensorboard<3,>=2.3.0->tensorflow) (3.1.0)\n"
          ],
          "name": "stdout"
        }
      ]
    },
    {
      "cell_type": "code",
      "metadata": {
        "id": "bEZ6YSyYQYkG",
        "colab_type": "code",
        "colab": {
          "base_uri": "https://localhost:8080/",
          "height": 153
        },
        "outputId": "32a946c3-c566-48a0-cdaa-4710ba5420b1"
      },
      "source": [
        "fashion_mnist = keras.datasets.fashion_mnist\n",
        "(train_images, train_labels), (test_images, test_labels) = fashion_mnist.load_data()"
      ],
      "execution_count": 2,
      "outputs": [
        {
          "output_type": "stream",
          "text": [
            "Downloading data from https://storage.googleapis.com/tensorflow/tf-keras-datasets/train-labels-idx1-ubyte.gz\n",
            "32768/29515 [=================================] - 0s 0us/step\n",
            "Downloading data from https://storage.googleapis.com/tensorflow/tf-keras-datasets/train-images-idx3-ubyte.gz\n",
            "26427392/26421880 [==============================] - 0s 0us/step\n",
            "Downloading data from https://storage.googleapis.com/tensorflow/tf-keras-datasets/t10k-labels-idx1-ubyte.gz\n",
            "8192/5148 [===============================================] - 0s 0us/step\n",
            "Downloading data from https://storage.googleapis.com/tensorflow/tf-keras-datasets/t10k-images-idx3-ubyte.gz\n",
            "4423680/4422102 [==============================] - 0s 0us/step\n"
          ],
          "name": "stdout"
        }
      ]
    },
    {
      "cell_type": "code",
      "metadata": {
        "id": "ZFtWtKMkK-ZR",
        "colab_type": "code",
        "colab": {}
      },
      "source": [
        "train_images = train_images / 255\n",
        "test_images = test_images / 255"
      ],
      "execution_count": 3,
      "outputs": []
    },
    {
      "cell_type": "code",
      "metadata": {
        "id": "ZkQ-g3MZRJIO",
        "colab_type": "code",
        "colab": {
          "base_uri": "https://localhost:8080/",
          "height": 85
        },
        "outputId": "5aed0210-b6fe-4557-e7d7-56b6e70e38d2"
      },
      "source": [
        "print(\"Train data shape: \", train_images.shape)\n",
        "print(\"Train labels shape: \", train_labels.shape)\n",
        "print(\"Test data shape: \", test_images.shape)\n",
        "print(\"Test labels shape: \", test_labels.shape)"
      ],
      "execution_count": 4,
      "outputs": [
        {
          "output_type": "stream",
          "text": [
            "Train data shape:  (60000, 28, 28)\n",
            "Train labels shape:  (60000,)\n",
            "Test data shape:  (10000, 28, 28)\n",
            "Test labels shape:  (10000,)\n"
          ],
          "name": "stdout"
        }
      ]
    },
    {
      "cell_type": "code",
      "metadata": {
        "id": "VCTG_NFbRfJW",
        "colab_type": "code",
        "colab": {}
      },
      "source": [
        "class_names = ['T-shirt', 'Trouser', 'Pullover', 'Dress', 'Coat',\n",
        "               'Sandal', 'Shirt', 'Sneaker', 'Bag', 'Ankle boot']"
      ],
      "execution_count": 5,
      "outputs": []
    },
    {
      "cell_type": "code",
      "metadata": {
        "id": "NTBS5S32Rmc-",
        "colab_type": "code",
        "colab": {
          "base_uri": "https://localhost:8080/",
          "height": 282
        },
        "outputId": "96fdcd6e-8927-438a-9aa0-185e7b5ae68c"
      },
      "source": [
        "plt.imshow(train_images[0], cmap = \"Greys\", interpolation = \"nearest\")"
      ],
      "execution_count": 6,
      "outputs": [
        {
          "output_type": "execute_result",
          "data": {
            "text/plain": [
              "<matplotlib.image.AxesImage at 0x7fb7f72e49b0>"
            ]
          },
          "metadata": {
            "tags": []
          },
          "execution_count": 6
        },
        {
          "output_type": "display_data",
          "data": {
            "image/png": "[encoded data removed]",
            "text/plain": [
              "<Figure size 432x288 with 1 Axes>"
            ]
          },
          "metadata": {
            "tags": [],
            "needs_background": "light"
          }
        }
      ]
    },
    {
      "cell_type": "code",
      "metadata": {
        "id": "xHPP-wc8S7GX",
        "colab_type": "code",
        "colab": {
          "base_uri": "https://localhost:8080/",
          "height": 86
        },
        "outputId": "8d853863-9f0a-4dcd-cfe3-fa3db362abef"
      },
      "source": [
        "# BUILD THE NEURAL NETWORK\n",
        "\n",
        "# SET UP THE LAYERS\n",
        "model = keras.Sequential([keras.layers.Flatten(input_shape = (28,28)),\n",
        "                          keras.layers.Dense(128, activation = \"relu\"),\n",
        "                          keras.layers.Dense(10)])\n",
        "\n",
        "''' Flatten layer -- takes the array, which is currently in the shape (28,28), and flattens it into one long array of shape (1, 784)\n",
        "    First Dense layer -- contains 128 fully connected nodes\n",
        "    Second Dense layer -- this layer returns a logit array of length 10\n",
        "    Each dense layer contains a score that the image belongs to one of the 10 classes '''\n",
        "\n",
        "model.compile(optimizer = \"adam\",\n",
        "              loss = tf.keras.losses.SparseCategoricalCrossentropy(from_logits = True),\n",
        "              metrics = [\"accuracy\"])\n",
        "\n",
        "''' loss -- measures how accurate the model is during training. We want this function to be minimized\n",
        "          SparseCategoricalCrossentropy -- calculates the crossentropy between the labels and the predictions,\n",
        "                                           use this when you have more than two categories to predict\n",
        "    optimizer -- determines how to model will be updated based on the loss function and the data it sees\n",
        "    metrics -- attribute used to monitor the training and testing steps '''"
      ],
      "execution_count": 7,
      "outputs": [
        {
          "output_type": "execute_result",
          "data": {
            "application/vnd.google.colaboratory.intrinsic+json": {
              "type": "string"
            },
            "text/plain": [
              "' loss -- measures how accurate the model is during training. We want this function to be minimized\\n          SparseCategoricalCrossentropy -- calculates the crossentropy between the labels and the predictions,\\n                                           use this when you have more than two categories to predict\\n    optimizer -- determines how to model will be updated based on the loss function and the data it sees\\n    metrics -- attribute used to monitor the training and testing steps '"
            ]
          },
          "metadata": {
            "tags": []
          },
          "execution_count": 7
        }
      ]
    },
    {
      "cell_type": "code",
      "metadata": {
        "id": "OwjFlWX6Ylw3",
        "colab_type": "code",
        "colab": {
          "base_uri": "https://localhost:8080/",
          "height": 714
        },
        "outputId": "95e76339-fe8c-49ac-c297-fe6f12968594"
      },
      "source": [
        "# TRAIN THE MODEL\n",
        "# 50 epochs may be too much, accuracy does not go up too much after 15-20 epochs\n",
        "\n",
        "model.fit(train_images, train_labels, epochs = 20, batch_size = 200)"
      ],
      "execution_count": 18,
      "outputs": [
        {
          "output_type": "stream",
          "text": [
            "Epoch 1/20\n",
            "300/300 [==============================] - 1s 4ms/step - loss: 0.1415 - accuracy: 0.9482\n",
            "Epoch 2/20\n",
            "300/300 [==============================] - 1s 4ms/step - loss: 0.1353 - accuracy: 0.9505\n",
            "Epoch 3/20\n",
            "300/300 [==============================] - 1s 4ms/step - loss: 0.1331 - accuracy: 0.9518\n",
            "Epoch 4/20\n",
            "300/300 [==============================] - 1s 4ms/step - loss: 0.1320 - accuracy: 0.9520\n",
            "Epoch 5/20\n",
            "300/300 [==============================] - 1s 4ms/step - loss: 0.1311 - accuracy: 0.9525\n",
            "Epoch 6/20\n",
            "300/300 [==============================] - 1s 4ms/step - loss: 0.1302 - accuracy: 0.9524\n",
            "Epoch 7/20\n",
            "300/300 [==============================] - 1s 4ms/step - loss: 0.1284 - accuracy: 0.9525\n",
            "Epoch 8/20\n",
            "300/300 [==============================] - 1s 4ms/step - loss: 0.1270 - accuracy: 0.9539\n",
            "Epoch 9/20\n",
            "300/300 [==============================] - 1s 4ms/step - loss: 0.1257 - accuracy: 0.9539\n",
            "Epoch 10/20\n",
            "300/300 [==============================] - 1s 4ms/step - loss: 0.1254 - accuracy: 0.9546\n",
            "Epoch 11/20\n",
            "300/300 [==============================] - 1s 4ms/step - loss: 0.1228 - accuracy: 0.9556\n",
            "Epoch 12/20\n",
            "300/300 [==============================] - 1s 4ms/step - loss: 0.1214 - accuracy: 0.9560\n",
            "Epoch 13/20\n",
            "300/300 [==============================] - 1s 4ms/step - loss: 0.1176 - accuracy: 0.9572\n",
            "Epoch 14/20\n",
            "300/300 [==============================] - 1s 4ms/step - loss: 0.1174 - accuracy: 0.9576\n",
            "Epoch 15/20\n",
            "300/300 [==============================] - 1s 4ms/step - loss: 0.1143 - accuracy: 0.9586\n",
            "Epoch 16/20\n",
            "300/300 [==============================] - 1s 4ms/step - loss: 0.1122 - accuracy: 0.9593\n",
            "Epoch 17/20\n",
            "300/300 [==============================] - 1s 4ms/step - loss: 0.1094 - accuracy: 0.9602\n",
            "Epoch 18/20\n",
            "300/300 [==============================] - 1s 4ms/step - loss: 0.1090 - accuracy: 0.9598\n",
            "Epoch 19/20\n",
            "300/300 [==============================] - 1s 4ms/step - loss: 0.1058 - accuracy: 0.9615\n",
            "Epoch 20/20\n",
            "300/300 [==============================] - 1s 4ms/step - loss: 0.1050 - accuracy: 0.9611\n"
          ],
          "name": "stdout"
        },
        {
          "output_type": "execute_result",
          "data": {
            "text/plain": [
              "<tensorflow.python.keras.callbacks.History at 0x7fb7ecba5a58>"
            ]
          },
          "metadata": {
            "tags": []
          },
          "execution_count": 18
        }
      ]
    },
    {
      "cell_type": "code",
      "metadata": {
        "id": "CMNDhoAhyQK_",
        "colab_type": "code",
        "colab": {
          "base_uri": "https://localhost:8080/",
          "height": 272
        },
        "outputId": "d15d3474-4fc5-45b1-fda0-5f64d44a707a"
      },
      "source": [
        "print(model.summary())"
      ],
      "execution_count": 9,
      "outputs": [
        {
          "output_type": "stream",
          "text": [
            "Model: \"sequential\"\n",
            "_________________________________________________________________\n",
            "Layer (type)                 Output Shape              Param #   \n",
            "=================================================================\n",
            "flatten (Flatten)            (None, 784)               0         \n",
            "_________________________________________________________________\n",
            "dense (Dense)                (None, 128)               100480    \n",
            "_________________________________________________________________\n",
            "dense_1 (Dense)              (None, 10)                1290      \n",
            "=================================================================\n",
            "Total params: 101,770\n",
            "Trainable params: 101,770\n",
            "Non-trainable params: 0\n",
            "_________________________________________________________________\n",
            "None\n"
          ],
          "name": "stdout"
        }
      ]
    },
    {
      "cell_type": "code",
      "metadata": {
        "id": "AX7wg00zaxyk",
        "colab_type": "code",
        "colab": {
          "base_uri": "https://localhost:8080/",
          "height": 68
        },
        "outputId": "baf6e0c3-03e6-4729-831d-8639d549707b"
      },
      "source": [
        "# FIND THE ACCURACY WHEN USING THE TESTING DATA\n",
        "# COMPARE THIS TO TRAINING ACCURACY TO SEE IF OVERFITTING HAS OCCURRED\n",
        "\n",
        "test_loss, test_accuracy = model.evaluate(test_images, test_labels, verbose = 2)\n",
        "print(\"\\nTest Accuracy = \", test_accuracy * 100)"
      ],
      "execution_count": 19,
      "outputs": [
        {
          "output_type": "stream",
          "text": [
            "313/313 - 0s - loss: 0.3956 - accuracy: 0.8929\n",
            "\n",
            "Test Accuracy =  89.28999900817871\n"
          ],
          "name": "stdout"
        }
      ]
    },
    {
      "cell_type": "code",
      "metadata": {
        "id": "SPBqyLUfd35_",
        "colab_type": "code",
        "colab": {
          "base_uri": "https://localhost:8080/",
          "height": 52
        },
        "outputId": "6065d5c9-d1cc-4889-ac47-f7c9089de963"
      },
      "source": [
        "probability_model = tf.keras.Sequential([model,\n",
        "                                         tf.keras.layers.Softmax()])\n",
        "\n",
        "''' This softmax layer takes the logits that the original model outputs and converts\n",
        "    them into probabilities which are much easier to understand and interpret '''"
      ],
      "execution_count": 11,
      "outputs": [
        {
          "output_type": "execute_result",
          "data": {
            "application/vnd.google.colaboratory.intrinsic+json": {
              "type": "string"
            },
            "text/plain": [
              "' This softmax layer takes the logits that the original model outputs and converts\\n    them into probabilities which are much easier to understand and interpret '"
            ]
          },
          "metadata": {
            "tags": []
          },
          "execution_count": 11
        }
      ]
    },
    {
      "cell_type": "code",
      "metadata": {
        "id": "G4iYuR5Weden",
        "colab_type": "code",
        "colab": {}
      },
      "source": [
        "predictions = probability_model.predict(test_images)"
      ],
      "execution_count": 12,
      "outputs": []
    },
    {
      "cell_type": "code",
      "metadata": {
        "id": "XiHPNVP1e2BF",
        "colab_type": "code",
        "colab": {
          "base_uri": "https://localhost:8080/",
          "height": 35
        },
        "outputId": "20e8d1b3-799f-4d5a-f991-11ba5915b07a"
      },
      "source": [
        "# VIEW THE FIRST PREDICITION JUST TO VIEW WHAT THE OUTPUT IS\n",
        "predictions[0]\n",
        "\n",
        "''' returns an array of 10 different probabilities, one for each potential category '''"
      ],
      "execution_count": 13,
      "outputs": [
        {
          "output_type": "execute_result",
          "data": {
            "application/vnd.google.colaboratory.intrinsic+json": {
              "type": "string"
            },
            "text/plain": [
              "' returns an array of 10 different probabilities, one for each potential category '"
            ]
          },
          "metadata": {
            "tags": []
          },
          "execution_count": 13
        }
      ]
    },
    {
      "cell_type": "code",
      "metadata": {
        "id": "cJU00kVTfbUY",
        "colab_type": "code",
        "colab": {
          "base_uri": "https://localhost:8080/",
          "height": 51
        },
        "outputId": "10717113-13ed-4f70-c4cf-5c89bf567ba7"
      },
      "source": [
        "# argmax finds the index of the highest prediction value\n",
        "# check with the actual label to see how this prediction was\n",
        "print(np.argmax(predictions[0]))\n",
        "print(test_labels[0])"
      ],
      "execution_count": 14,
      "outputs": [
        {
          "output_type": "stream",
          "text": [
            "9\n",
            "9\n"
          ],
          "name": "stdout"
        }
      ]
    },
    {
      "cell_type": "code",
      "metadata": {
        "id": "kIFtp6dgDby6",
        "colab_type": "code",
        "colab": {}
      },
      "source": [
        "def plot_image(i, predictions_array, true_label, img):\n",
        "  true_label, img = true_label[i], img[i]\n",
        "  plt.grid(False)\n",
        "  plt.yticks([])\n",
        "  plt.xticks([])\n",
        "\n",
        "  plt.imshow(img, cmap = \"Greys\")\n",
        "\n",
        "  predicted_label = np.argmax(predictions_array)\n",
        "  if predicted_label == true_label:\n",
        "    color = \"green\"\n",
        "  else:\n",
        "    color = \"red\"\n",
        "\n",
        "  plt.xlabel(\"{} {:2.0f}% ({})\".format(class_names[predicted_label], # 1. display the predicted class\n",
        "                                     100 * np.max(predictions_array), # 2. display the confidence of the prediction\n",
        "                                     class_names[true_label], # in parenthesis, display the actual class label\n",
        "                                     color = color)) # if the prediction is correct, the color is green. Wrong predictions are red"
      ],
      "execution_count": 15,
      "outputs": []
    },
    {
      "cell_type": "code",
      "metadata": {
        "id": "cC5XHyeiHalz",
        "colab_type": "code",
        "colab": {}
      },
      "source": [
        "def plot_value_array(i, predicitons_array, true_label):\n",
        "  # assign the true label\n",
        "  true_label = true_label[i]\n",
        "  # get rid of the grid of the plot\n",
        "  plt.grid(False)\n",
        "  # set the ticks of the x-axis to be the number of classes we are predicting\n",
        "  plt.xticks(range(10))\n",
        "  # get rid of the y ticks\n",
        "  plt.yticks([])\n",
        "  # set up the bar plot, the x values are 0-9 and the y values are the values that appear in the prediction array\n",
        "  thisplot = plt.bar(range(10), predicitons_array)\n",
        "  # set the limit of the y axis to be between 0 and 1\n",
        "  plt.ylim(0,1)\n",
        "  # assign the predicted label to a name \n",
        "  predicted_label = np.argmax(predicitons_array)\n",
        "\n",
        "  # set the colors of the two special cases in our bar plot\n",
        "  thisplot[predicted_label].set_color(\"red\")\n",
        "  thisplot[true_label].set_color(\"green\")"
      ],
      "execution_count": 16,
      "outputs": []
    },
    {
      "cell_type": "code",
      "metadata": {
        "id": "qRt1APQCI_Sv",
        "colab_type": "code",
        "colab": {
          "base_uri": "https://localhost:8080/",
          "height": 585
        },
        "outputId": "010f9d21-947a-46af-a3ab-3206d546b6e2"
      },
      "source": [
        "num_rows = 4\n",
        "num_cols = 3\n",
        "num_images = num_rows * num_cols\n",
        "plt.figure(figsize = (2*2*num_cols, 2*num_rows))\n",
        "\n",
        "for i in range(num_images):\n",
        "  plt.subplot(num_rows, 2*num_cols, 2*i+1)\n",
        "  plot_image(i, predictions[i], test_labels, test_images)\n",
        "  plt.subplot(num_rows, 2*num_cols, 2*i+2)\n",
        "  plot_value_array(i, predictions[i], test_labels)\n",
        "\n",
        "plt.tight_layout()\n",
        "plt.show()"
      ],
      "execution_count": 17,
      "outputs": [
        {
          "output_type": "display_data",
          "data": {
            "image/png": "[encoded data removed]",
            "text/plain": [
              "<Figure size 864x576 with 24 Axes>"
            ]
          },
          "metadata": {
            "tags": [],
            "needs_background": "light"
          }
        }
      ]
    }
  ]
}
