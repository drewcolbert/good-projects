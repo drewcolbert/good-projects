{
  "nbformat": 4,
  "nbformat_minor": 0,
  "metadata": {
    "colab": {
      "name": "Lab6_Prophet.ipynb",
      "provenance": [],
      "collapsed_sections": []
    },
    "kernelspec": {
      "name": "python3",
      "display_name": "Python 3"
    }
  },
  "cells": [
    {
      "cell_type": "code",
      "metadata": {
        "id": "S_lVmSIDramm",
        "colab_type": "code",
        "colab": {}
      },
      "source": [
        "from fbprophet import Prophet\n",
        "import pandas as pd"
      ],
      "execution_count": 1,
      "outputs": []
    },
    {
      "cell_type": "code",
      "metadata": {
        "id": "vJxPsSoOrmiq",
        "colab_type": "code",
        "colab": {
          "resources": {
            "http://localhost:8080/nbextensions/google.colab/files.js": {
              "data": "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",
              "ok": true,
              "headers": [
                [
                  "content-type",
                  "application/javascript"
                ]
              ],
              "status": 200,
              "status_text": ""
            }
          },
          "base_uri": "https://localhost:8080/",
          "height": 72
        },
        "outputId": "94d42186-1265-4221-b26a-a322e84e8a83"
      },
      "source": [
        "# READ IN THE DATA\n",
        "from google.colab import files\n",
        "files.upload()"
      ],
      "execution_count": 2,
      "outputs": [
        {
          "output_type": "display_data",
          "data": {
            "text/html": [
              "\n",
              "     <input type=\"file\" id=\"files-a5270891-27a4-42d8-a595-ed3fb124682f\" name=\"files[]\" multiple disabled\n",
              "        style=\"border:none\" />\n",
              "     <output id=\"result-a5270891-27a4-42d8-a595-ed3fb124682f\">\n",
              "      Upload widget is only available when the cell has been executed in the\n",
              "      current browser session. Please rerun this cell to enable.\n",
              "      </output>\n",
              "      <script src=\"/nbextensions/google.colab/files.js\"></script> "
            ],
            "text/plain": [
              "<IPython.core.display.HTML object>"
            ]
          },
          "metadata": {
            "tags": []
          }
        },
        {
          "output_type": "stream",
          "text": [
            "Saving housing_data.csv to housing_data.csv\n"
          ],
          "name": "stdout"
        }
      ]
    },
    {
      "cell_type": "code",
      "metadata": {
        "id": "vRKjur9PGTF0",
        "colab_type": "code",
        "colab": {}
      },
      "source": [
        "full_data = pd.read_csv(\"housing_data.csv\")"
      ],
      "execution_count": 3,
      "outputs": []
    },
    {
      "cell_type": "code",
      "metadata": {
        "id": "1ZBePCG-yZgv",
        "colab_type": "code",
        "colab": {}
      },
      "source": [
        "# THE DATES ARE CURRENTLY LOCATED IN THE DATA AS COLUMNS (NOT GOOD!!)\n",
        "# WE WANT ONE COLUMN NAMED 'DATES' THAT HOLDS EACH INSTANCE FOR EACH DATE FOR EACH ZIP CODE\n",
        "# GO FROM A WIDE DATASET TO A LONG DATASET\n",
        "# ID_VARS WILL BE LEFT ALONE\n",
        "# THE REMAINING COLUMNS (THE DATES IN THIS CASE) WILL BE MELTED INTO ONE COLUMN WHICH IS NAMED 'DATES'\n",
        "# THE VALUES THAT ARE LOCATED UNDER THE DATE COLUMNS IN THE MEDIAN HOUSING VALUE, WE WANT TO KEEP THESE TOGETHER\n",
        "# SO VAR_NAME IS THE NAME OF THE NEW COLUMN BEING MELTED AND VALUE_NAME IS THE VALUES WHICH WERE HELD WITH THE VAR_NAME \n",
        "full_data_melted = full_data.melt(id_vars = [\"RegionID\", \n",
        "                                           \"SizeRank\", \n",
        "                                           \"RegionName\", \n",
        "                                           \"RegionType\", \n",
        "                                           \"StateName\", \n",
        "                                           \"State\",\n",
        "                                           \"City\",\n",
        "                                           \"Metro\",\n",
        "                                           \"CountyName\"],\n",
        "                                var_name = \"Date\",\n",
        "                                value_name = \"MedianHousingValue\")\n",
        "# CHANGE THE DATE COLUMN TO DATETIME TYPE\n",
        "full_data_melted[\"Date\"] = pd.to_datetime(full_data_melted[\"Date\"])\n"
      ],
      "execution_count": 4,
      "outputs": []
    },
    {
      "cell_type": "code",
      "metadata": {
        "id": "LVzNwbspp-52",
        "colab_type": "code",
        "colab": {}
      },
      "source": [
        "# GET ALL THE ZIP CODES FROM THE BUSINESS INSIDER TOP 25 CITIES TO LIVE IN IN THE US\n",
        "from functools import reduce\n",
        "\n",
        "city1 = full_data_melted[full_data_melted[\"City\"] == \"Melbourne\"]\n",
        "city2 = full_data_melted[full_data_melted[\"City\"] == \"Salt Lake City\"]\n",
        "city3 = full_data_melted[full_data_melted[\"City\"] == \"Portland\"]\n",
        "city4 = full_data_melted[full_data_melted[\"City\"] == \"Greenville\"]\n",
        "city5 = full_data_melted[full_data_melted[\"City\"] == \"Dallas\"]\n",
        "city6 = full_data_melted[full_data_melted[\"City\"] == \"Charlotte\"]\n",
        "city7 = full_data_melted[full_data_melted[\"City\"] == \"Sarasota\"]\n",
        "city8 = full_data_melted[full_data_melted[\"City\"] == \"Boise\"]\n",
        "city9 = full_data_melted[full_data_melted[\"City\"] == \"Asheville\"]\n",
        "city10 = full_data_melted[full_data_melted[\"City\"] == \"Nashville\"]\n",
        "city11 = full_data_melted[full_data_melted[\"City\"] == \"San Jose\"]\n",
        "city12 = full_data_melted[full_data_melted[\"City\"] == \"Grand Rapids\"]\n",
        "city13 = full_data_melted[full_data_melted[\"City\"] == \"Madison\"]\n",
        "city14 = full_data_melted[full_data_melted[\"City\"] == \"Huntsville\"]\n",
        "city15 = full_data_melted[full_data_melted[\"City\"] == \"Raleigh\"]\n",
        "city16 = full_data_melted[full_data_melted[\"City\"] == \"Seattle\"]\n",
        "city17 = full_data_melted[full_data_melted[\"City\"] == \"San Fransisco\"]\n",
        "city18 = full_data_melted[full_data_melted[\"City\"] == \"Minneapolis\"]\n",
        "city19 = full_data_melted[full_data_melted[\"City\"] == \"Des Moines\"]\n",
        "city20 = full_data_melted[full_data_melted[\"City\"] == \"Fayetteville\"]\n",
        "city21 = full_data_melted[full_data_melted[\"City\"] == \"Colorado Springs\"]\n",
        "city22 = full_data_melted[full_data_melted[\"City\"] == \"Denver\"]\n",
        "city23 = full_data_melted[full_data_melted[\"City\"] == \"Austin\"]\n",
        "\n",
        "# CREATE A LIST OF THE DATAFRAMES TO MERGE (ONE FOR EACH CITY COLLECTED ABOVE)\n",
        "all_cities = [city1, city2, city3, city4, city5, city6, city7, city8, city9, city10, city11, city12, city13, city14, city15, city16, city17, city18, city19, city20, city21, city22, city23]\n",
        "# MERGE ALL OF THE DATAFRAMES, OUTER SO WE INCLUDE ALL THE DATA\n",
        "best_cities = reduce(lambda left, right: pd.merge(left, right, how = \"outer\"), all_cities)\n",
        "# DROP THE NA VALUES \n",
        "best_cities.dropna(axis = 0, how = \"any\", inplace = True)\n"
      ],
      "execution_count": 5,
      "outputs": []
    },
    {
      "cell_type": "code",
      "metadata": {
        "id": "TxUUpqrsykuA",
        "colab_type": "code",
        "colab": {}
      },
      "source": [
        "zips = []\n",
        "predictions = []\n",
        "actual = []\n",
        "differences = []\n",
        "\n",
        "def predict_zip(zip_code):\n",
        "  # CREATE NEW DF WITH ONLY THE DATA FROM SPECIFIC ZIP CODE \n",
        "  df = best_cities[best_cities[\"RegionID\"] == zip_code]\n",
        "  # CREATE TRAINING AND TESTING SETS (TRAIN = 1996-2019, TEST = 2020)\n",
        "  all_train = df[pd.DatetimeIndex(df[\"Date\"]).year != 2020]\n",
        "  all_test = df[pd.DatetimeIndex(df[\"Date\"]).year == 2020]\n",
        "\n",
        "  # CREATE EMPTY DATAFRAME THAT WILL BE USED TO CREATE DF SUITABLE FOR PROPHET\n",
        "  # DO SO FOR BOTH THE TRAIN AND TEST\n",
        "  train = pd.DataFrame()\n",
        "  train[\"ds\"] = all_train[\"Date\"]\n",
        "  train['y'] = all_train[\"MedianHousingValue\"]\n",
        "\n",
        "  test = pd.DataFrame()\n",
        "  test[\"ds\"] = all_test[\"Date\"]\n",
        "  test[\"y\"] = all_test[\"MedianHousingValue\"]\n",
        "\n",
        "  # INITIATE, TRAIN, AND PREDICT USING THE ABOVE DATAFRAMES\n",
        "  m = Prophet()\n",
        "  m.fit(train)\n",
        "  results = m.predict(test)\n",
        "\n",
        "  # CALCULATE THE DIFFERENCE BETWEEN THE MAX PREDICTION AND THE MAX ACTUAL VALUE\n",
        "  # APPEND ALL OF THE DIFFERENT LISTS WITH THE RESULTS FROM PROPHET \n",
        "  difference = (results[\"yhat\"].max() - all_train[\"MedianHousingValue\"].max())\n",
        "  zips.append(zip_code)\n",
        "  predictions.append(results[\"yhat\"].max())\n",
        "  actual.append(all_train[\"MedianHousingValue\"].max())\n",
        "  differences.append(difference)\n",
        "\n",
        "  return zips\n",
        "  return predictions\n",
        "  return actual\n",
        "  return difference\n",
        "  \n"
      ],
      "execution_count": 6,
      "outputs": []
    },
    {
      "cell_type": "code",
      "metadata": {
        "id": "Chu53L4P1esP",
        "colab_type": "code",
        "colab": {}
      },
      "source": [
        "# CREATE A LIST OF EACH UNIQUE ZIP CODE IN THE DATAFRAME\n",
        "new_zips = best_cities[\"RegionID\"].unique().tolist()\n",
        "\n",
        "# RUN THE ABOVE FUNCTION FOR EACH UNIQUE ZIP CODE IN THE LIST \n",
        "for zip_code in new_zips:\n",
        "  predict_zip(zip_code)\n",
        "\n",
        "# TAKE APPROXIMATELY 20 MINUTES TO FINISH RUNNING!!!!!!"
      ],
      "execution_count": null,
      "outputs": []
    },
    {
      "cell_type": "code",
      "metadata": {
        "id": "m1RkR0gL2hPI",
        "colab_type": "code",
        "colab": {}
      },
      "source": [
        "# CREATE DICTIONARY OF THE RESULTS FROM PROPHET \n",
        "# WILL BE MADE INTO A DATAFRAME LATER\n",
        "p_results = {}\n",
        "p_results[\"Zip\"] = zips\n",
        "p_results[\"Actual\"] = actual\n",
        "p_results[\"Prediction\"] = predictions\n",
        "p_results[\"Difference\"] = differences"
      ],
      "execution_count": 12,
      "outputs": []
    },
    {
      "cell_type": "code",
      "metadata": {
        "id": "ZgGWTupmSNtY",
        "colab_type": "code",
        "colab": {}
      },
      "source": [
        "results_df = pd.DataFrame(p_results, columns = p_results.keys())\n",
        "#results_df.head(10)"
      ],
      "execution_count": null,
      "outputs": []
    },
    {
      "cell_type": "code",
      "metadata": {
        "id": "a8HhQi0SYALY",
        "colab_type": "code",
        "colab": {}
      },
      "source": [
        "# THIS FUNCTION TAKES A SERIES, LIST, ETC AND SPITS OUT A SPECIFIC NUMBER OF VALUES THAT ARE CLOSEST TO A VALUE YOU CHOOSE\n",
        "def closest_value(sample, number, return_num):\n",
        "    return sorted(sample, key=lambda i: abs(i - number))[:return_num]"
      ],
      "execution_count": 38,
      "outputs": []
    },
    {
      "cell_type": "code",
      "metadata": {
        "id": "yd6tb4u6au4T",
        "colab_type": "code",
        "colab": {
          "base_uri": "https://localhost:8080/",
          "height": 54
        },
        "outputId": "14b83250-cf89-41ae-aedb-12b6368931df"
      },
      "source": [
        "# FIND THE 10 VALUES IN THE COLUMN THAT ARE CLOSEST TO 0\n",
        "close_values = closest_value(results_df[\"Difference\"], 0, 10)\n",
        "#print(close_values)"
      ],
      "execution_count": 63,
      "outputs": [
        {
          "output_type": "stream",
          "text": [
            "[4.138011992676184, -5.248831955497735, 52.43917267775396, 69.26235530945996, 70.37528466351796, 78.53466826223303, -83.00751191485324, 85.68060767033603, -129.77141264948295, -135.0369090141321]\n"
          ],
          "name": "stdout"
        }
      ]
    },
    {
      "cell_type": "code",
      "metadata": {
        "id": "SuB12LySgMql",
        "colab_type": "code",
        "colab": {
          "base_uri": "https://localhost:8080/",
          "height": 357
        },
        "outputId": "7a49462c-aaa7-4c00-a01e-4396f4518065"
      },
      "source": [
        "# DISPLAY THE ZIP CODES OF THE VALUES THAT WERE CLOSELY PREDICTED\n",
        "one = results_df[\"Zip\"][results_df[\"Difference\"] == close_values[0]]\n",
        "two = results_df[\"Zip\"][results_df[\"Difference\"] == close_values[1]]\n",
        "three = results_df[\"Zip\"][results_df[\"Difference\"] == close_values[2]]\n",
        "four = results_df[\"Zip\"][results_df[\"Difference\"] == close_values[3]]\n",
        "five = results_df[\"Zip\"][results_df[\"Difference\"] == close_values[4]]\n",
        "six = results_df[\"Zip\"][results_df[\"Difference\"] == close_values[5]]\n",
        "seven = results_df[\"Zip\"][results_df[\"Difference\"] == close_values[6]]\n",
        "eight = results_df[\"Zip\"][results_df[\"Difference\"] == close_values[7]]\n",
        "nine = results_df[\"Zip\"][results_df[\"Difference\"] == close_values[8]]\n",
        "ten = results_df[\"Zip\"][results_df[\"Difference\"] == close_values[9]]\n",
        "\n",
        "print(one)\n",
        "print(two)\n",
        "print(three)\n",
        "print(four)\n",
        "print(five)\n",
        "print(six)\n",
        "print(seven)\n",
        "print(eight)\n",
        "print(nine)\n",
        "print(ten)"
      ],
      "execution_count": 52,
      "outputs": [
        {
          "output_type": "stream",
          "text": [
            "502    92628\n",
            "Name: Zip, dtype: int64\n",
            "160    89603\n",
            "Name: Zip, dtype: int64\n",
            "292    73627\n",
            "Name: Zip, dtype: int64\n",
            "68    69533\n",
            "Name: Zip, dtype: int64\n",
            "305    73619\n",
            "Name: Zip, dtype: int64\n",
            "298    76632\n",
            "Name: Zip, dtype: int64\n",
            "125    69676\n",
            "Name: Zip, dtype: int64\n",
            "492    92666\n",
            "Name: Zip, dtype: int64\n",
            "382    80287\n",
            "Name: Zip, dtype: int64\n",
            "310    73629\n",
            "Name: Zip, dtype: int64\n"
          ],
          "name": "stdout"
        }
      ]
    },
    {
      "cell_type": "code",
      "metadata": {
        "id": "A6z3SVjOhPW5",
        "colab_type": "code",
        "colab": {
          "base_uri": "https://localhost:8080/",
          "height": 323
        },
        "outputId": "0368272e-7e19-4024-e9fa-c576f4b7d746"
      },
      "source": [
        "# USING THE ZIP CODES ABOVE, DISPLAY THE CITY THAT EACH ZIP CODE IS ASSOCIATED WITH \n",
        "# NOT NECCESSARY BUT HELPS WITH EXPLAINING THE RESULTS AND IS INTERESTING \n",
        "a = full_data[\"City\"][full_data[\"RegionID\"] == 92628]\n",
        "b = full_data[\"City\"][full_data[\"RegionID\"] == 89603]\n",
        "c = full_data[\"City\"][full_data[\"RegionID\"] == 73627]\n",
        "d = full_data[\"City\"][full_data[\"RegionID\"] == 69533]\n",
        "e = full_data[\"City\"][full_data[\"RegionID\"] == 73619]\n",
        "f = full_data[\"City\"][full_data[\"RegionID\"] == 76632]\n",
        "g = full_data[\"City\"][full_data[\"RegionID\"] == 69676]\n",
        "h = full_data[\"City\"][full_data[\"RegionID\"] == 92666]\n",
        "i = full_data[\"City\"][full_data[\"RegionID\"] == 80287]\n",
        "j = full_data[\"City\"][full_data[\"RegionID\"] == 73629]\n",
        "\n",
        "print(a)\n",
        "print(b)\n",
        "print(c)\n",
        "print(d)\n",
        "print(e)\n",
        "print(f)\n",
        "print(h)\n",
        "print(i)\n",
        "print(j)"
      ],
      "execution_count": 53,
      "outputs": [
        {
          "output_type": "stream",
          "text": [
            "2642    Austin\n",
            "Name: City, dtype: object\n",
            "26964    Charlotte\n",
            "Name: City, dtype: object\n",
            "18509    Madison\n",
            "Name: City, dtype: object\n",
            "241    Greenville\n",
            "Name: City, dtype: object\n",
            "3287    Huntsville\n",
            "Name: City, dtype: object\n",
            "14832    Huntsville\n",
            "Name: City, dtype: object\n",
            "4222    Austin\n",
            "Name: City, dtype: object\n",
            "7828    Des Moines\n",
            "Name: City, dtype: object\n",
            "6843    Huntsville\n",
            "Name: City, dtype: object\n"
          ],
          "name": "stdout"
        }
      ]
    },
    {
      "cell_type": "code",
      "metadata": {
        "id": "krZQwLgRlnE5",
        "colab_type": "code",
        "colab": {}
      },
      "source": [
        "# FUNCTION THAT FINDS THE 10 MAXIMUM VALUES IN THE PREDICTIONS LIST \n",
        "def top_10_pred(list1, N = 10): \n",
        "    final_list = [] \n",
        "  \n",
        "    for i in range(0, N):  \n",
        "        max1 = 0\n",
        "          \n",
        "        for j in range(len(list1)):      \n",
        "            if list1[j] > max1: \n",
        "                max1 = list1[j]; \n",
        "                  \n",
        "        list1.remove(max1); \n",
        "        final_list.append(max1) \n",
        "          \n",
        "    print(final_list)"
      ],
      "execution_count": 58,
      "outputs": []
    },
    {
      "cell_type": "code",
      "metadata": {
        "id": "r_IrZiAZmhJ3",
        "colab_type": "code",
        "colab": {
          "base_uri": "https://localhost:8080/",
          "height": 54
        },
        "outputId": "62373dcd-a7c2-4ff9-b06b-35fb25c26670"
      },
      "source": [
        "top_10_pred(predictions)"
      ],
      "execution_count": 60,
      "outputs": [
        {
          "output_type": "stream",
          "text": [
            "[1435302.7059097372, 1319239.4496632023, 1311490.5378642273, 1304337.122329982, 1281646.389659733, 1277400.5963615584, 1272702.4443157332, 1268641.2967212552, 1264957.9083365323, 1245836.0667833125]\n"
          ],
          "name": "stdout"
        }
      ]
    },
    {
      "cell_type": "code",
      "metadata": {
        "id": "-U1567aKnpeB",
        "colab_type": "code",
        "colab": {
          "base_uri": "https://localhost:8080/",
          "height": 357
        },
        "outputId": "961390bb-1182-48cb-ea5f-15a795f81033"
      },
      "source": [
        "# DISPLAY THE ZIP CODE OF THE 10 HIGHEST PREDICTIONS\n",
        "aa = results_df[\"Zip\"][results_df[\"Prediction\"] == 1435302.7059097372]\n",
        "bb = results_df[\"Zip\"][results_df[\"Prediction\"] == 1319239.4496632023]\n",
        "cc = results_df[\"Zip\"][results_df[\"Prediction\"] == 1311490.5378642273]\n",
        "dd = results_df[\"Zip\"][results_df[\"Prediction\"] == 1304337.122329982]\n",
        "ee = results_df[\"Zip\"][results_df[\"Prediction\"] == 1281646.389659733]\n",
        "ff = results_df[\"Zip\"][results_df[\"Prediction\"] == 1277400.5963615584]\n",
        "gg = results_df[\"Zip\"][results_df[\"Prediction\"] == 1272702.4443157332]\n",
        "hh = results_df[\"Zip\"][results_df[\"Prediction\"] == 1268641.2967212552]\n",
        "ii = results_df[\"Zip\"][results_df[\"Prediction\"] == 1264957.9083365323]\n",
        "jj = results_df[\"Zip\"][results_df[\"Prediction\"] == 1245836.0667833125]\n",
        "\n",
        "print(aa)\n",
        "print(bb)\n",
        "print(cc)\n",
        "print(dd)\n",
        "print(ee)\n",
        "print(ff)\n",
        "print(gg)\n",
        "print(hh)\n",
        "print(ii)\n",
        "print(jj)"
      ],
      "execution_count": 61,
      "outputs": [
        {
          "output_type": "stream",
          "text": [
            "224    97992\n",
            "Name: Zip, dtype: int64\n",
            "247    97914\n",
            "Name: Zip, dtype: int64\n",
            "334    99569\n",
            "Name: Zip, dtype: int64\n",
            "338    99562\n",
            "Name: Zip, dtype: int64\n",
            "230    97996\n",
            "Name: Zip, dtype: int64\n",
            "156    69770\n",
            "Name: Zip, dtype: int64\n",
            "231    98002\n",
            "Name: Zip, dtype: int64\n",
            "344    99579\n",
            "Name: Zip, dtype: int64\n",
            "236    97986\n",
            "Name: Zip, dtype: int64\n",
            "234    98000\n",
            "Name: Zip, dtype: int64\n"
          ],
          "name": "stdout"
        }
      ]
    },
    {
      "cell_type": "code",
      "metadata": {
        "id": "xgFNdLmjo_ke",
        "colab_type": "code",
        "colab": {
          "base_uri": "https://localhost:8080/",
          "height": 323
        },
        "outputId": "37d36f73-df7e-4758-e873-1f9e9267d025"
      },
      "source": [
        "# USING THE ZIP CODES ABOVE, DISPLAY THE CITY \n",
        "# NOT NECCESSARY \n",
        "aaa = full_data[\"City\"][full_data[\"RegionID\"] == 97992]\n",
        "bbb = full_data[\"City\"][full_data[\"RegionID\"] == 97914]\n",
        "ccc = full_data[\"City\"][full_data[\"RegionID\"] == 99569]\n",
        "ddd = full_data[\"City\"][full_data[\"RegionID\"] == 99562]\n",
        "eee = full_data[\"City\"][full_data[\"RegionID\"] == 97996]\n",
        "fff = full_data[\"City\"][full_data[\"RegionID\"] == 69770]\n",
        "ggg = full_data[\"City\"][full_data[\"RegionID\"] == 98002]\n",
        "hhh = full_data[\"City\"][full_data[\"RegionID\"] == 99597]\n",
        "iii = full_data[\"City\"][full_data[\"RegionID\"] == 97986]\n",
        "jjj = full_data[\"City\"][full_data[\"RegionID\"] == 98000]\n",
        "\n",
        "print(aaa)\n",
        "print(bbb)\n",
        "print(ccc)\n",
        "print(ddd)\n",
        "print(eee)\n",
        "print(fff)\n",
        "print(hhh)\n",
        "print(iii)\n",
        "print(jjj)"
      ],
      "execution_count": 62,
      "outputs": [
        {
          "output_type": "stream",
          "text": [
            "1435    San Jose\n",
            "Name: City, dtype: object\n",
            "18688    San Jose\n",
            "Name: City, dtype: object\n",
            "610    Seattle\n",
            "Name: City, dtype: object\n",
            "1534    Seattle\n",
            "Name: City, dtype: object\n",
            "2643    San Jose\n",
            "Name: City, dtype: object\n",
            "9904    Charlotte\n",
            "Name: City, dtype: object\n",
            "4126    Burien\n",
            "Name: City, dtype: object\n",
            "3972    San Jose\n",
            "Name: City, dtype: object\n",
            "3700    San Jose\n",
            "Name: City, dtype: object\n"
          ],
          "name": "stdout"
        }
      ]
    }
  ]
}